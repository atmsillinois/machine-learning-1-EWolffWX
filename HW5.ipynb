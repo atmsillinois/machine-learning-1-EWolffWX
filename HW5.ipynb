{
 "cells": [
  {
   "cell_type": "code",
   "execution_count": 13,
   "metadata": {},
   "outputs": [],
   "source": [
    "import xarray as xr\n",
    "import pandas as pd\n",
    "\n",
    "from sklearn.model_selection import train_test_split"
   ]
  },
  {
   "cell_type": "markdown",
   "metadata": {},
   "source": [
    "# Problem 1"
   ]
  },
  {
   "cell_type": "markdown",
   "metadata": {},
   "source": [
    "Split the data into a 70-30 split for training and testing data."
   ]
  },
  {
   "cell_type": "code",
   "execution_count": 8,
   "metadata": {},
   "outputs": [],
   "source": [
    "df = pd.read_csv('homework/radar_parameters.csv')"
   ]
  },
  {
   "cell_type": "code",
   "execution_count": 9,
   "metadata": {},
   "outputs": [
    {
     "data": {
      "text/html": [
       "<div>\n",
       "<style scoped>\n",
       "    .dataframe tbody tr th:only-of-type {\n",
       "        vertical-align: middle;\n",
       "    }\n",
       "\n",
       "    .dataframe tbody tr th {\n",
       "        vertical-align: top;\n",
       "    }\n",
       "\n",
       "    .dataframe thead th {\n",
       "        text-align: right;\n",
       "    }\n",
       "</style>\n",
       "<table border=\"1\" class=\"dataframe\">\n",
       "  <thead>\n",
       "    <tr style=\"text-align: right;\">\n",
       "      <th></th>\n",
       "      <th>Unnamed: 0</th>\n",
       "      <th>Zh (dBZ)</th>\n",
       "      <th>Zdr (dB)</th>\n",
       "      <th>Ldr (dB)</th>\n",
       "      <th>Kdp (deg km-1)</th>\n",
       "      <th>Ah (dBZ/km)</th>\n",
       "      <th>Adr (dB/km)</th>\n",
       "      <th>R (mm/hr)</th>\n",
       "    </tr>\n",
       "  </thead>\n",
       "  <tbody>\n",
       "    <tr>\n",
       "      <th>0</th>\n",
       "      <td>0</td>\n",
       "      <td>23.144878</td>\n",
       "      <td>0.418637</td>\n",
       "      <td>-41.757733</td>\n",
       "      <td>0.005395</td>\n",
       "      <td>0.000290</td>\n",
       "      <td>0.000012</td>\n",
       "      <td>2.393520</td>\n",
       "    </tr>\n",
       "    <tr>\n",
       "      <th>1</th>\n",
       "      <td>1</td>\n",
       "      <td>22.737156</td>\n",
       "      <td>0.322850</td>\n",
       "      <td>-43.772069</td>\n",
       "      <td>0.005194</td>\n",
       "      <td>0.000360</td>\n",
       "      <td>0.000012</td>\n",
       "      <td>3.502699</td>\n",
       "    </tr>\n",
       "    <tr>\n",
       "      <th>2</th>\n",
       "      <td>2</td>\n",
       "      <td>26.869826</td>\n",
       "      <td>0.330948</td>\n",
       "      <td>-43.577399</td>\n",
       "      <td>0.013385</td>\n",
       "      <td>0.000903</td>\n",
       "      <td>0.000030</td>\n",
       "      <td>8.627561</td>\n",
       "    </tr>\n",
       "    <tr>\n",
       "      <th>3</th>\n",
       "      <td>3</td>\n",
       "      <td>28.540561</td>\n",
       "      <td>0.399480</td>\n",
       "      <td>-42.139731</td>\n",
       "      <td>0.018872</td>\n",
       "      <td>0.001036</td>\n",
       "      <td>0.000043</td>\n",
       "      <td>8.424447</td>\n",
       "    </tr>\n",
       "    <tr>\n",
       "      <th>4</th>\n",
       "      <td>4</td>\n",
       "      <td>30.500127</td>\n",
       "      <td>0.543758</td>\n",
       "      <td>-39.763087</td>\n",
       "      <td>0.027438</td>\n",
       "      <td>0.001157</td>\n",
       "      <td>0.000064</td>\n",
       "      <td>8.189291</td>\n",
       "    </tr>\n",
       "    <tr>\n",
       "      <th>...</th>\n",
       "      <td>...</td>\n",
       "      <td>...</td>\n",
       "      <td>...</td>\n",
       "      <td>...</td>\n",
       "      <td>...</td>\n",
       "      <td>...</td>\n",
       "      <td>...</td>\n",
       "      <td>...</td>\n",
       "    </tr>\n",
       "    <tr>\n",
       "      <th>18964</th>\n",
       "      <td>18964</td>\n",
       "      <td>31.515997</td>\n",
       "      <td>0.579955</td>\n",
       "      <td>-39.244229</td>\n",
       "      <td>0.034048</td>\n",
       "      <td>0.001417</td>\n",
       "      <td>0.000080</td>\n",
       "      <td>10.648020</td>\n",
       "    </tr>\n",
       "    <tr>\n",
       "      <th>18965</th>\n",
       "      <td>18965</td>\n",
       "      <td>29.993334</td>\n",
       "      <td>0.567935</td>\n",
       "      <td>-39.399188</td>\n",
       "      <td>0.024134</td>\n",
       "      <td>0.001032</td>\n",
       "      <td>0.000057</td>\n",
       "      <td>7.981875</td>\n",
       "    </tr>\n",
       "    <tr>\n",
       "      <th>18966</th>\n",
       "      <td>18966</td>\n",
       "      <td>31.685913</td>\n",
       "      <td>0.655681</td>\n",
       "      <td>-38.375696</td>\n",
       "      <td>0.033971</td>\n",
       "      <td>0.001165</td>\n",
       "      <td>0.000081</td>\n",
       "      <td>6.822691</td>\n",
       "    </tr>\n",
       "    <tr>\n",
       "      <th>18967</th>\n",
       "      <td>18967</td>\n",
       "      <td>32.980096</td>\n",
       "      <td>0.768586</td>\n",
       "      <td>-37.166218</td>\n",
       "      <td>0.043117</td>\n",
       "      <td>0.001285</td>\n",
       "      <td>0.000105</td>\n",
       "      <td>6.801169</td>\n",
       "    </tr>\n",
       "    <tr>\n",
       "      <th>18968</th>\n",
       "      <td>18968</td>\n",
       "      <td>28.731399</td>\n",
       "      <td>0.804155</td>\n",
       "      <td>-36.795913</td>\n",
       "      <td>0.015908</td>\n",
       "      <td>0.000469</td>\n",
       "      <td>0.000039</td>\n",
       "      <td>2.582440</td>\n",
       "    </tr>\n",
       "  </tbody>\n",
       "</table>\n",
       "<p>18969 rows × 8 columns</p>\n",
       "</div>"
      ],
      "text/plain": [
       "       Unnamed: 0   Zh (dBZ)  Zdr (dB)   Ldr (dB)  Kdp (deg km-1)  \\\n",
       "0               0  23.144878  0.418637 -41.757733        0.005395   \n",
       "1               1  22.737156  0.322850 -43.772069        0.005194   \n",
       "2               2  26.869826  0.330948 -43.577399        0.013385   \n",
       "3               3  28.540561  0.399480 -42.139731        0.018872   \n",
       "4               4  30.500127  0.543758 -39.763087        0.027438   \n",
       "...           ...        ...       ...        ...             ...   \n",
       "18964       18964  31.515997  0.579955 -39.244229        0.034048   \n",
       "18965       18965  29.993334  0.567935 -39.399188        0.024134   \n",
       "18966       18966  31.685913  0.655681 -38.375696        0.033971   \n",
       "18967       18967  32.980096  0.768586 -37.166218        0.043117   \n",
       "18968       18968  28.731399  0.804155 -36.795913        0.015908   \n",
       "\n",
       "       Ah (dBZ/km)  Adr (dB/km)  R (mm/hr)  \n",
       "0         0.000290     0.000012   2.393520  \n",
       "1         0.000360     0.000012   3.502699  \n",
       "2         0.000903     0.000030   8.627561  \n",
       "3         0.001036     0.000043   8.424447  \n",
       "4         0.001157     0.000064   8.189291  \n",
       "...            ...          ...        ...  \n",
       "18964     0.001417     0.000080  10.648020  \n",
       "18965     0.001032     0.000057   7.981875  \n",
       "18966     0.001165     0.000081   6.822691  \n",
       "18967     0.001285     0.000105   6.801169  \n",
       "18968     0.000469     0.000039   2.582440  \n",
       "\n",
       "[18969 rows x 8 columns]"
      ]
     },
     "execution_count": 9,
     "metadata": {},
     "output_type": "execute_result"
    }
   ],
   "source": [
    "df"
   ]
  },
  {
   "cell_type": "code",
   "execution_count": 10,
   "metadata": {},
   "outputs": [
    {
     "data": {
      "text/plain": [
       "(18969, 7)"
      ]
     },
     "execution_count": 10,
     "metadata": {},
     "output_type": "execute_result"
    }
   ],
   "source": [
    "X = df.drop('R (mm/hr)', axis=1)\n",
    "X.shape"
   ]
  },
  {
   "cell_type": "code",
   "execution_count": 12,
   "metadata": {},
   "outputs": [
    {
     "data": {
      "text/plain": [
       "(18969,)"
      ]
     },
     "execution_count": 12,
     "metadata": {},
     "output_type": "execute_result"
    }
   ],
   "source": [
    "y = df['R (mm/hr)']\n",
    "y.shape"
   ]
  },
  {
   "cell_type": "code",
   "execution_count": 14,
   "metadata": {},
   "outputs": [],
   "source": [
    "Xtrain, Xtest, ytrain, ytest = train_test_split(X, y, random_state=0, train_size=0.7)"
   ]
  },
  {
   "cell_type": "markdown",
   "metadata": {},
   "source": [
    "# Problem 2"
   ]
  },
  {
   "cell_type": "markdown",
   "metadata": {},
   "source": [
    "Using the split created in (1), train a multiple linear regression dataset using the training dataset, and validate it using the testing dataset. Compare the R^2 and root mean square errors of model on the training and testing sets to a baseline prediction of rain rate using the formula Z=200(R^1.6)."
   ]
  },
  {
   "cell_type": "code",
   "execution_count": null,
   "metadata": {},
   "outputs": [],
   "source": []
  },
  {
   "cell_type": "markdown",
   "metadata": {},
   "source": [
    "# Problem 3"
   ]
  },
  {
   "cell_type": "markdown",
   "metadata": {},
   "source": [
    "Repeat 1 doing a grid search over polynomial orders, using a grid search over orders 0-21, and use cross-validation of 7 folds. For the best polynomial model in terms of R^2, does it outperform the baseline and the linear regression model in terms of  and root mean square error?"
   ]
  },
  {
   "cell_type": "code",
   "execution_count": null,
   "metadata": {},
   "outputs": [],
   "source": []
  },
  {
   "cell_type": "markdown",
   "metadata": {},
   "source": [
    "# Problem 4"
   ]
  },
  {
   "cell_type": "markdown",
   "metadata": {},
   "source": [
    "Repeat 1 with a Random Forest Regressor, and perform a grid_search on the following parameters:\n",
    "\n",
    "{'bootstrap': [True, False],  \n",
    "'max_depth': [10, 20, 30, 40, 50, 60, 70, 80, 90, 100, None],  \n",
    "'max_features': ['auto', 'sqrt'],  \n",
    "'min_samples_leaf': [1, 2, 4],  \n",
    "'min_samples_split': [2, 5, 10],  \n",
    "'n_estimators': [200, 400, 600, 800, 1000, 1200, 1400, 1600, 1800, 2000]}"
   ]
  },
  {
   "cell_type": "markdown",
   "metadata": {},
   "source": [
    "Can you beat the baseline, or the linear regression, or best polynomial model with the best optimized Random Forest Regressor in terms of R^2 and root mean square error?"
   ]
  },
  {
   "cell_type": "code",
   "execution_count": null,
   "metadata": {},
   "outputs": [],
   "source": []
  }
 ],
 "metadata": {
  "kernelspec": {
   "display_name": "Python 3.10.4 ('py3')",
   "language": "python",
   "name": "python3"
  },
  "language_info": {
   "codemirror_mode": {
    "name": "ipython",
    "version": 3
   },
   "file_extension": ".py",
   "mimetype": "text/x-python",
   "name": "python",
   "nbconvert_exporter": "python",
   "pygments_lexer": "ipython3",
   "version": "3.10.4"
  },
  "orig_nbformat": 4,
  "vscode": {
   "interpreter": {
    "hash": "767458629f70b2fb8974b169dd4c249d435b9fc9feafc8bbb1d89602058085cc"
   }
  }
 },
 "nbformat": 4,
 "nbformat_minor": 2
}
